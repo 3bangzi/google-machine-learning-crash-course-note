{
 "cells": [
  {
   "cell_type": "markdown",
   "metadata": {},
   "source": [
    "# 框架处理\n",
    "## 机器学习术语\n",
    "- 监督机器学习：机器学习系统通过学习如何组合输入信息来对从未见过的数据做出有用的预测。\n",
    "- 标签：标签是我们要预测的事物，即简单线性回归中的 y 变量。标签可以是小麦未来的价格、图片中显示的动物品种、音频剪辑的含义或任何事物。\n",
    "- 特征：特征是输入变量，即简单线性回归中的 x 变量。简单的机器学习项目可能会使用单个特征，而比较复杂的机器学习项目可能会使用数百万个特征\n",
    "- 样本：样本是指数据的特定实例：x。（我们采用粗体 ** x ** 表示它是一个矢量。）我们将样本分为以下两类：\n",
    "    - 有标签样本：包括属性和标签，我们用来训练模型\n",
    "    - 无标签样本：包括属性但是不包含标签，我们用训练好的模型来预测无标签样本的标签\n",
    "- 模型：定义了特征与标签之间的关系。\n",
    "    - 训练：表示创建或学习模型。也就是说，您向模型展示有标签样本，让模型逐渐学习特征与标签之间的关系。\n",
    "    - 推断：表示将训练后的模型应用于无标签样本。也就是说，您使用训练后的模型来做出有用的预测 (y')。\n",
    "- 回归模型：可以预测连续值。比如，北京一个公寓价值多少？用户点击广告率是多少？\n",
    "- 分类模型：可以预测离散值。比如，这个女生是不是你的挚爱？这是一个女生还是一个男生？\n",
    "\n"
   ]
  },
  {
   "cell_type": "code",
   "execution_count": null,
   "metadata": {},
   "outputs": [],
   "source": []
  }
 ],
 "metadata": {
  "kernelspec": {
   "display_name": "Python 3",
   "language": "python",
   "name": "python3"
  },
  "language_info": {
   "codemirror_mode": {
    "name": "ipython",
    "version": 3
   },
   "file_extension": ".py",
   "mimetype": "text/x-python",
   "name": "python",
   "nbconvert_exporter": "python",
   "pygments_lexer": "ipython3",
   "version": "3.6.5"
  }
 },
 "nbformat": 4,
 "nbformat_minor": 2
}
