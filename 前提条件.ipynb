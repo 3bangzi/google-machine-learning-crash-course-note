{
 "cells": [
  {
   "cell_type": "markdown",
   "metadata": {},
   "source": [
    "## Pandas 使用入门\n",
    "\n",
    "Pandas文档：http://pandas.pydata.org/pandas-docs/stable/whatsnew.html\n",
    "Pandas基础语法练习：https://colab.research.google.com/notebooks/mlcc/intro_to_pandas.ipynb?utm_source=mlcc&utm_campaign=colab-external&utm_medium=referral&utm_content=pandas-colab&hl=zh-cn\n",
    "\n",
    "## TensorFlow相关的概念\n",
    "**概念概览**(https://colab.research.google.com/notebooks/mlcc/tensorflow_programming_concepts.ipynb?utm_source=mlcc&utm_campaign=colab-external&utm_medium=referral&utm_content=tfprogconcepts-colab&hl=zh-cn#scrollTo=BrlnLTesgywL)\n",
    "TensorFlow 的名称源自张量，张量是任意维度的数组。借助 TensorFlow，您可以操控具有大量维度的张量。即便如此，在大多数情况下，您会使用以下一个或多个低维张量：\n",
    "\n",
    "- 标量是零维数组（零阶张量）。例如，\\'Howdy\\' 或 5\n",
    "- 矢量是一维数组（一阶张量）。例如，[2, 3, 5, 7, 11] 或 [5]\n",
    "- 矩阵是二维数组（二阶张量）。例如，[[3.1, 8.2, 5.9][4.3, -2.7, 6.5]]\n",
    "TensorFlow 指令会创建、销毁和操控张量。典型 TensorFlow 程序中的大多数代码行都是指令。\n",
    "\n",
    "TensorFlow 图（也称为计算图或数据流图）是一种图数据结构。很多 TensorFlow 程序由单个图构成，但是 TensorFlow 程序可以选择创建多个图。图的节点是指令；图的边是张量。张量流经图，在每个节点由一个指令操控。一个指令的输出张量通常会变成后续指令的输入张量。TensorFlow 会实现延迟执行模型，意味着系统仅会根据相关节点的需求在需要时计算节点。\n",
    "\n",
    "张量可以作为常量或变量存储在图中。您可能已经猜到，常量存储的是值不会发生更改的张量，而变量存储的是值会发生更改的张量。不过，您可能没有猜到的是，常量和变量都只是图中的一种指令。常量是始终会返回同一张量值的指令。变量是会返回分配给它的任何张量的指令。\n",
    "\n",
    "定义一些常量或变量后，您可以将它们与其他指令（如 tf.add）结合使用。在评估 tf.add 指令时，它会调用您的 tf.constant 或 tf.Variable 指令，以获取它们的值，然后返回一个包含这些值之和的新张量。\n",
    "\n",
    "图必须在 TensorFlow 会话中运行，会话存储了它所运行的图的状态：\n",
    "\n",
    "将 tf.Session() 作为会话：\n",
    "  initialization = tf.global_variables_initializer()\n",
    "  print(y.eval())\n",
    "在使用 tf.Variable 时，您必须在会话开始时调用 tf.global_variables_initializer，以明确初始化这些变量，如上所示。\n",
    "\n",
    "注意：会话可以将图分发到多个机器上执行（假设程序在某个分布式计算框架上运行）。有关详情，请参阅分布式 TensorFlow。\n",
    "\n",
    "## 总结\n",
    "TensorFlow 编程本质上是一个两步流程：\n",
    "\n",
    "- 将常量、变量和指令整合到一个图中。\n",
    "- 在一个会话中评估这些常量、变量和指令。"
   ]
  }
 ],
 "metadata": {
  "kernelspec": {
   "display_name": "Python 3",
   "language": "python",
   "name": "python3"
  },
  "language_info": {
   "codemirror_mode": {
    "name": "ipython",
    "version": 3
   },
   "file_extension": ".py",
   "mimetype": "text/x-python",
   "name": "python",
   "nbconvert_exporter": "python",
   "pygments_lexer": "ipython3",
   "version": "3.6.5"
  }
 },
 "nbformat": 4,
 "nbformat_minor": 2
}
