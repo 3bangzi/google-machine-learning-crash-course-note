{
 "cells": [
  {
   "cell_type": "markdown",
   "metadata": {},
   "source": [
    "# 深入理解极其学习\n",
    "## L2损失数学定义\n",
    "$$L_2Loss = \\sum_{(x,y)\\in D} (y - prediction(x))^2$$\n",
    "\n",
    "参数说明\n",
    "$$\\sum \\text{: 我们对训练集中的所有样本进行求和。}$$\n",
    "-----\n",
    "$$D \\text{: 有时取平均值也会有用，}\\text{除以} \\frac{1}{\\|D\\|}.$$\n",
    "\n",
    "我们做显性模型的时候，不是要去减少某个数据的误差，而是尽量减少整个数据集的误差。\n"
   ]
  },
  {
   "cell_type": "markdown",
   "metadata": {},
   "source": [
    "## 训练与损失\n",
    "经验风险最小化：训练模型表示通过有标签样本来学习（确定）所有权重和偏差的理想值。在监督式学习中，机器学习算法通过以下方式构建模型：检查多个样本并尝试找出可最大限度地减少损失的模型的过程。\n",
    "\n",
    "损失是对糟糕预测的惩罚。也就是说，损失是一个数值，表示对于单个样本而言模型预测的准确程度。如果模型的预测完全准确，则损失为零，否则损失会较大。训练模型的目标是从所有样本中找到一组平均损失“较小”的权重和偏差。\n",
    "\n",
    "### 平方损失，又叫L2损失。\n",
    "$$L_2Loss = \\sum_{(x,y)\\in D} (y - prediction(x))^2$$\n",
    "\n",
    "参数说明：\n",
    "$$\\sum \\text{: 我们对训练集中的所有样本进行求和。}$$\n",
    "------\n",
    "$$D \\text{: 有时取平均值也会有用，}\\text{除以} \\frac{1}{\\|D\\|}.$$\n",
    "\n",
    "### 均方误差（MSE）:每个样本的平均L2Loss\n",
    "$$MSE = \\frac{1}{N} \\sum_{(x,y)\\in D} (y - prediction(x))^2$$\n",
    "其中：\n",
    "\n",
    "- (x, y)指的是样本，其中\n",
    "- x指的是模型进行预测时使用的特征集（例如，温度、年龄和交配成功率）。\n",
    "- y指的是样本的标签（例如，每分钟的鸣叫次数）。\n",
    "- prediction(x)指的是权重和偏差与特征集  结合的函数。\n",
    "- D指的是包含多个有标签样本（即 (x,y)）的数据集。\n",
    "- N指的是D中的样本数量。\n",
    "\n",
    "虽然 MSE 常用于机器学习，但它既不是唯一实用的损失函数，也不是适用于所有情形的最佳损失函数。\n",
    "\n"
   ]
  },
  {
   "cell_type": "code",
   "execution_count": null,
   "metadata": {},
   "outputs": [],
   "source": []
  }
 ],
 "metadata": {
  "kernelspec": {
   "display_name": "Python 3",
   "language": "python",
   "name": "python3"
  },
  "language_info": {
   "codemirror_mode": {
    "name": "ipython",
    "version": 3
   },
   "file_extension": ".py",
   "mimetype": "text/x-python",
   "name": "python",
   "nbconvert_exporter": "python",
   "pygments_lexer": "ipython3",
   "version": "3.6.5"
  }
 },
 "nbformat": 4,
 "nbformat_minor": 2
}
