{
 "cells": [
  {
   "cell_type": "markdown",
   "metadata": {},
   "source": [
    "# 监督学习的假设\n",
    "\n",
    "以下三项基本假设阐明了泛化：\n",
    "\n",
    "- 我们从分布中随机抽取独立同分布 (i.i.d) 的样本。换言之，样本之间不会互相影响。（另一种解释：i.i.d. 是表示变量随机性的一种方式）。\n",
    "- 分布是平稳的；即分布在数据集内不会发生变化。\n",
    "- 我们从同一分布的数据划分中抽取样本。\n",
    "\n",
    "在实践中，我们有时会违背这些假设。例如：\n",
    "\n",
    "- 想象有一个选择要展示的广告的模型。如果该模型在某种程度上根据用户以前看过的广告选择广告，则会违背 i.i.d. 假设。\n",
    "- 想象有一个包含一年零售信息的数据集。用户的购买行为会出现季节性变化，这会违反平稳性。\n",
    "\n",
    "## 总结\n",
    "- 如果某个模型尝试紧密拟合训练数据，但却不能很好地泛化到新数据，就会发生过拟合。\n",
    "- 如果不符合监督式机器学习的关键假设，那么我们将失去对新数据进行预测这项能力的重要理论保证。\n"
   ]
  },
  {
   "cell_type": "markdown",
   "metadata": {},
   "source": [
    "我们基于给定测试集执行评估的次数越多，不知不觉地过拟合该测试集的风险就越高。\n",
    "\n",
    "避免这种问题，我们引入验证集的概念\n",
    "\n",
    "![avatar](https://developers.google.com/machine-learning/crash-course/images/WorkflowWithValidationSet.svg?hl=zh-cn)"
   ]
  },
  {
   "cell_type": "code",
   "execution_count": null,
   "metadata": {},
   "outputs": [],
   "source": [
    "# 使用TF常用的头文件\n",
    "\n",
    "from __future__ import print_function\n",
    "\n",
    "import math\n",
    "\n",
    "from IPython import display\n",
    "from matplotlib import cm\n",
    "from matplotlib import gridspec\n",
    "from matplotlib import pyplot as plt\n",
    "import numpy as np\n",
    "import pandas as pd\n",
    "from sklearn import metrics\n",
    "import tensorflow as tf\n",
    "from tensorflow.python.data import Dataset"
   ]
  },
  {
   "cell_type": "markdown",
   "metadata": {},
   "source": [
    "# 特征工程\n",
    "机器学习工程师70%的时间都是在处理特征工程，特征工程就是在杂乱的数据中，获取特征的过程。传统编程的关注点是代码。在机器学习项目中，关注点变成了表示。传统编程的关注点是代码。在机器学习项目中，关注点变成了表示。\n",
    "![pic](https://developers.google.com/machine-learning/crash-course/images/RawDataToFeatureVector.svg?hl=zh-cn)\n",
    "左侧表示来自输入数据源的原始数据，右侧表示特征矢量，也就是组成数据集中样本的浮点值集。 特征工程指的是将原始数据转换为特征矢量。进行特征工程预计需要大量时间。\n",
    "\n",
    "机器学习模型通常期望样本表示为实数矢量。这种矢量的构建方法如下：为每个字段衍生特征，然后将它们全部连接到一起。"
   ]
  },
  {
   "cell_type": "markdown",
   "metadata": {},
   "source": [
    "## 良好特征的特点\n",
    "- 避免使用那些出现次数过少的离散特征值。原则上，一个特征值起码要在数据集中出现5次以上。\n",
    "- 具有清晰明确含义的特征值比较好\n",
    "- 去除掉那些奇异的值。比如超出合理范围的值。\n",
    "- 要考虑到上游的不稳定性。考虑数据来源的数据稳定性和真实性。"
   ]
  },
  {
   "cell_type": "markdown",
   "metadata": {},
   "source": [
    "# 特征值缩放\n",
    "- 帮助梯度下降法更快速地收敛。\n",
    "- 帮助避免“NaN 陷阱”。在这种陷阱中，模型中的一个数值变成 NaN（例如，当某个值在训练期间超出浮点精确率限制时），并且模型中的所有其他数值最终也会因数学运算而变成 NaN。\n",
    "- 帮助模型为每个特征确定合适的权重。如果没有进行特征缩放，则模型会对范围较大的特征投入过多精力。"
   ]
  },
  {
   "cell_type": "markdown",
   "metadata": {},
   "source": [
    "# 处理极端离群值\n",
    "过大过小的值，我们可以设定一个限值，比如30，超过30的就按照30算，反之亦然。"
   ]
  },
  {
   "cell_type": "markdown",
   "metadata": {},
   "source": [
    "# 分箱\n",
    "在加州房价的例子中，纬度信息是一个浮点数，我们可以把他做成一个分箱，其实就是分几个区间，然后弄个向量，这样就可以丢到模型里面去学习了。\n",
    "我们现在拥有 11 个不同的布尔值特征（LatitudeBin1、LatitudeBin2、…、LatitudeBin11），而不是一个浮点特征。拥有 11 个不同的特征有点不方便，因此我们将它们统一成一个 11 元素矢量。这样做之后，我们可以将纬度 37.4 表示为：\n",
    "\n",
    "[0, 0, 0, 0, 0, 1, 0, 0, 0, 0, 0]"
   ]
  },
  {
   "cell_type": "markdown",
   "metadata": {},
   "source": [
    "# 清查\n",
    "- 遗漏值。 例如，有人忘记为某个房屋的年龄输入值。\n",
    "- 重复样本。 例如，服务器错误地将同一条记录上传了两次。\n",
    "- 不良标签。 例如，有人错误地将一颗橡树的图片标记为枫树。\n",
    "- 不良特征值。 例如，有人输入了多余的位数，或者温度计被遗落在太阳底下。"
   ]
  },
  {
   "cell_type": "markdown",
   "metadata": {},
   "source": [
    "# 数据工程总结\n",
    "## 遵循以下规则：\n",
    "\n",
    "- 记住您预期的数据状态。\n",
    "- 确认数据是否满足这些预期（或者您可以解释为何数据不满足预期）。\n",
    "- 仔细检查训练数据是否与其他来源（例如信息中心）的数据一致。\n",
    "\n",
    "\n",
    "像处理任何任务关键型代码一样谨慎处理您的数据。良好的机器学习依赖于良好的数据。"
   ]
  },
  {
   "cell_type": "markdown",
   "metadata": {},
   "source": [
    "# 特征组合\n",
    "- 特征组合是这种方法的名称\n",
    "- 定义 [A x B] 形式的模板\n",
    "- 可以比较复杂：[A x B x C x D x E]\n",
    "- 当 A 和 B 表示布尔特征（例如分箱）时，所得到的组合可能会极其稀疏\n",
    "\n",
    "# 理由\n",
    "- 线性学习器可以很好地扩展到大量数据，例如 vowpal-wabit、sofia-ml\n",
    "- 不过，如果不使用特征组合，这些模型的表现度将受到限制\n",
    "- 使用特征组合 + 大量数据是学习高度复杂模型的一种有效策略\n",
    "    - 预示：神经网络可提供另一种策略\n",
    "\n",
    "通过采用随机梯度下降法，可以有效地训练线性模型。因此，在使用扩展的线性模型时辅以特征组合一直都是训练大规模数据集的有效方法。"
   ]
  },
  {
   "cell_type": "code",
   "execution_count": null,
   "metadata": {},
   "outputs": [],
   "source": []
  }
 ],
 "metadata": {
  "kernelspec": {
   "display_name": "Python 3",
   "language": "python",
   "name": "python3"
  },
  "language_info": {
   "codemirror_mode": {
    "name": "ipython",
    "version": 3
   },
   "file_extension": ".py",
   "mimetype": "text/x-python",
   "name": "python",
   "nbconvert_exporter": "python",
   "pygments_lexer": "ipython3",
   "version": "3.6.5"
  }
 },
 "nbformat": 4,
 "nbformat_minor": 2
}
